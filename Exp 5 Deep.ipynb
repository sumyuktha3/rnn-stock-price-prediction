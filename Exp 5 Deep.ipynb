{
 "cells": [
  {
   "cell_type": "code",
   "execution_count": 1,
   "id": "9b65308a",
   "metadata": {},
   "outputs": [],
   "source": [
    "import numpy as np\n",
    "import matplotlib.pyplot as plt\n",
    "import pandas as pd\n",
    "from sklearn.preprocessing import MinMaxScaler\n",
    "from keras import layers\n",
    "from keras.models import Sequential\n",
    "from tensorflow.keras import models\n",
    "from tensorflow.keras import layers"
   ]
  },
  {
   "cell_type": "code",
   "execution_count": 2,
   "id": "d2af3ce0",
   "metadata": {},
   "outputs": [],
   "source": [
    "dataset_train = pd.read_csv('trainset.csv')"
   ]
  },
  {
   "cell_type": "code",
   "execution_count": 3,
   "id": "52d5ee43",
   "metadata": {},
   "outputs": [
    {
     "data": {
      "text/plain": [
       "Index(['Date', 'Open', 'High', 'Low', 'Close', 'Adj Close', 'Volume'], dtype='object')"
      ]
     },
     "execution_count": 3,
     "metadata": {},
     "output_type": "execute_result"
    }
   ],
   "source": [
    "dataset_train.columns"
   ]
  },
  {
   "cell_type": "code",
   "execution_count": 4,
   "id": "7cd72bf5",
   "metadata": {},
   "outputs": [
    {
     "data": {
      "text/html": [
       "<div>\n",
       "<style scoped>\n",
       "    .dataframe tbody tr th:only-of-type {\n",
       "        vertical-align: middle;\n",
       "    }\n",
       "\n",
       "    .dataframe tbody tr th {\n",
       "        vertical-align: top;\n",
       "    }\n",
       "\n",
       "    .dataframe thead th {\n",
       "        text-align: right;\n",
       "    }\n",
       "</style>\n",
       "<table border=\"1\" class=\"dataframe\">\n",
       "  <thead>\n",
       "    <tr style=\"text-align: right;\">\n",
       "      <th></th>\n",
       "      <th>Date</th>\n",
       "      <th>Open</th>\n",
       "      <th>High</th>\n",
       "      <th>Low</th>\n",
       "      <th>Close</th>\n",
       "      <th>Adj Close</th>\n",
       "      <th>Volume</th>\n",
       "    </tr>\n",
       "  </thead>\n",
       "  <tbody>\n",
       "    <tr>\n",
       "      <th>0</th>\n",
       "      <td>2013-01-02</td>\n",
       "      <td>357.385559</td>\n",
       "      <td>361.151062</td>\n",
       "      <td>355.959839</td>\n",
       "      <td>359.288177</td>\n",
       "      <td>359.288177</td>\n",
       "      <td>5115500</td>\n",
       "    </tr>\n",
       "    <tr>\n",
       "      <th>1</th>\n",
       "      <td>2013-01-03</td>\n",
       "      <td>360.122742</td>\n",
       "      <td>363.600128</td>\n",
       "      <td>358.031342</td>\n",
       "      <td>359.496826</td>\n",
       "      <td>359.496826</td>\n",
       "      <td>4666500</td>\n",
       "    </tr>\n",
       "    <tr>\n",
       "      <th>2</th>\n",
       "      <td>2013-01-04</td>\n",
       "      <td>362.313507</td>\n",
       "      <td>368.339294</td>\n",
       "      <td>361.488861</td>\n",
       "      <td>366.600616</td>\n",
       "      <td>366.600616</td>\n",
       "      <td>5562800</td>\n",
       "    </tr>\n",
       "    <tr>\n",
       "      <th>3</th>\n",
       "      <td>2013-01-07</td>\n",
       "      <td>365.348755</td>\n",
       "      <td>367.301056</td>\n",
       "      <td>362.929504</td>\n",
       "      <td>365.001007</td>\n",
       "      <td>365.001007</td>\n",
       "      <td>3332900</td>\n",
       "    </tr>\n",
       "    <tr>\n",
       "      <th>4</th>\n",
       "      <td>2013-01-08</td>\n",
       "      <td>365.393463</td>\n",
       "      <td>365.771027</td>\n",
       "      <td>359.874359</td>\n",
       "      <td>364.280701</td>\n",
       "      <td>364.280701</td>\n",
       "      <td>3373900</td>\n",
       "    </tr>\n",
       "  </tbody>\n",
       "</table>\n",
       "</div>"
      ],
      "text/plain": [
       "         Date        Open        High         Low       Close   Adj Close  \\\n",
       "0  2013-01-02  357.385559  361.151062  355.959839  359.288177  359.288177   \n",
       "1  2013-01-03  360.122742  363.600128  358.031342  359.496826  359.496826   \n",
       "2  2013-01-04  362.313507  368.339294  361.488861  366.600616  366.600616   \n",
       "3  2013-01-07  365.348755  367.301056  362.929504  365.001007  365.001007   \n",
       "4  2013-01-08  365.393463  365.771027  359.874359  364.280701  364.280701   \n",
       "\n",
       "    Volume  \n",
       "0  5115500  \n",
       "1  4666500  \n",
       "2  5562800  \n",
       "3  3332900  \n",
       "4  3373900  "
      ]
     },
     "execution_count": 4,
     "metadata": {},
     "output_type": "execute_result"
    }
   ],
   "source": [
    "dataset_train.head()"
   ]
  },
  {
   "cell_type": "code",
   "execution_count": 5,
   "id": "c77bcd9a",
   "metadata": {},
   "outputs": [],
   "source": [
    "train_set = dataset_train.iloc[:,1:2].values"
   ]
  },
  {
   "cell_type": "code",
   "execution_count": 6,
   "id": "4494379d",
   "metadata": {},
   "outputs": [
    {
     "data": {
      "text/plain": [
       "numpy.ndarray"
      ]
     },
     "execution_count": 6,
     "metadata": {},
     "output_type": "execute_result"
    }
   ],
   "source": [
    "type(train_set)"
   ]
  },
  {
   "cell_type": "code",
   "execution_count": 7,
   "id": "dd38deb9",
   "metadata": {},
   "outputs": [
    {
     "data": {
      "text/plain": [
       "(1259, 1)"
      ]
     },
     "execution_count": 7,
     "metadata": {},
     "output_type": "execute_result"
    }
   ],
   "source": [
    "train_set.shape"
   ]
  },
  {
   "cell_type": "code",
   "execution_count": 8,
   "id": "b1a3d0af",
   "metadata": {},
   "outputs": [],
   "source": [
    "sc = MinMaxScaler(feature_range=(0,1))\n",
    "training_set_scaled = sc.fit_transform(train_set)"
   ]
  },
  {
   "cell_type": "code",
   "execution_count": 9,
   "id": "86ae1885",
   "metadata": {},
   "outputs": [
    {
     "data": {
      "text/plain": [
       "(1259, 1)"
      ]
     },
     "execution_count": 9,
     "metadata": {},
     "output_type": "execute_result"
    }
   ],
   "source": [
    "training_set_scaled.shape"
   ]
  },
  {
   "cell_type": "code",
   "execution_count": 10,
   "id": "3e0aa49f",
   "metadata": {},
   "outputs": [],
   "source": [
    "X_train_array = []\n",
    "y_train_array = []\n",
    "for i in range(60, 1259):\n",
    "    X_train_array.append(training_set_scaled[i-60:i,0])\n",
    "    y_train_array.append(training_set_scaled[i,0])\n",
    "X_train, y_train = np.array(X_train_array), np.array(y_train_array)\n",
    "X_train1 = X_train.reshape((X_train.shape[0], X_train.shape[1],1))"
   ]
  },
  {
   "cell_type": "code",
   "execution_count": 11,
   "id": "fe4b35ef",
   "metadata": {},
   "outputs": [
    {
     "data": {
      "text/plain": [
       "(1199, 60)"
      ]
     },
     "execution_count": 11,
     "metadata": {},
     "output_type": "execute_result"
    }
   ],
   "source": [
    "X_train.shape"
   ]
  },
  {
   "cell_type": "code",
   "execution_count": 12,
   "id": "ac1f5da3",
   "metadata": {},
   "outputs": [],
   "source": [
    "length = 60\n",
    "n_features = 1"
   ]
  },
  {
   "cell_type": "code",
   "execution_count": 13,
   "id": "a4da41f7",
   "metadata": {},
   "outputs": [],
   "source": [
    "model = models.Sequential()\n",
    "model.add(layers.SimpleRNN(10,input_shape=(length,n_features)))\n",
    "model.add(layers.Dense(1))\n",
    "model.compile(optimizer='adam', loss='mse')"
   ]
  },
  {
   "cell_type": "code",
   "execution_count": 14,
   "id": "8f2c7a2d",
   "metadata": {},
   "outputs": [
    {
     "name": "stdout",
     "output_type": "stream",
     "text": [
      "Model: \"sequential\"\n",
      "_________________________________________________________________\n",
      " Layer (type)                Output Shape              Param #   \n",
      "=================================================================\n",
      " simple_rnn (SimpleRNN)      (None, 10)                120       \n",
      "                                                                 \n",
      " dense (Dense)               (None, 1)                 11        \n",
      "                                                                 \n",
      "=================================================================\n",
      "Total params: 131\n",
      "Trainable params: 131\n",
      "Non-trainable params: 0\n",
      "_________________________________________________________________\n"
     ]
    }
   ],
   "source": [
    "model.summary()"
   ]
  },
  {
   "cell_type": "code",
   "execution_count": 15,
   "id": "755b7fb7",
   "metadata": {},
   "outputs": [
    {
     "name": "stdout",
     "output_type": "stream",
     "text": [
      "Epoch 1/100\n",
      "38/38 [==============================] - 4s 11ms/step - loss: 0.1224\n",
      "Epoch 2/100\n",
      "38/38 [==============================] - 0s 10ms/step - loss: 0.0450\n",
      "Epoch 3/100\n",
      "38/38 [==============================] - 0s 9ms/step - loss: 0.0166\n",
      "Epoch 4/100\n",
      "38/38 [==============================] - 0s 9ms/step - loss: 0.0082\n",
      "Epoch 5/100\n",
      "38/38 [==============================] - 0s 11ms/step - loss: 0.0065\n",
      "Epoch 6/100\n",
      "38/38 [==============================] - 0s 10ms/step - loss: 0.0053\n",
      "Epoch 7/100\n",
      "38/38 [==============================] - 0s 10ms/step - loss: 0.0046\n",
      "Epoch 8/100\n",
      "38/38 [==============================] - 0s 10ms/step - loss: 0.0040\n",
      "Epoch 9/100\n",
      "38/38 [==============================] - 0s 8ms/step - loss: 0.0036\n",
      "Epoch 10/100\n",
      "38/38 [==============================] - 0s 9ms/step - loss: 0.0032\n",
      "Epoch 11/100\n",
      "38/38 [==============================] - 0s 12ms/step - loss: 0.0030\n",
      "Epoch 12/100\n",
      "38/38 [==============================] - 0s 11ms/step - loss: 0.0026\n",
      "Epoch 13/100\n",
      "38/38 [==============================] - 0s 10ms/step - loss: 0.0024\n",
      "Epoch 14/100\n",
      "38/38 [==============================] - 0s 7ms/step - loss: 0.0022\n",
      "Epoch 15/100\n",
      "38/38 [==============================] - 0s 8ms/step - loss: 0.0018\n",
      "Epoch 16/100\n",
      "38/38 [==============================] - 0s 10ms/step - loss: 0.0013\n",
      "Epoch 17/100\n",
      "38/38 [==============================] - 0s 11ms/step - loss: 0.0011\n",
      "Epoch 18/100\n",
      "38/38 [==============================] - 0s 10ms/step - loss: 0.0010\n",
      "Epoch 19/100\n",
      "38/38 [==============================] - 0s 8ms/step - loss: 9.4846e-04\n",
      "Epoch 20/100\n",
      "38/38 [==============================] - 0s 11ms/step - loss: 9.1557e-04\n",
      "Epoch 21/100\n",
      "38/38 [==============================] - 0s 10ms/step - loss: 8.8056e-04\n",
      "Epoch 22/100\n",
      "38/38 [==============================] - 0s 11ms/step - loss: 8.5228e-04\n",
      "Epoch 23/100\n",
      "38/38 [==============================] - 0s 11ms/step - loss: 8.3617e-04\n",
      "Epoch 24/100\n",
      "38/38 [==============================] - 0s 8ms/step - loss: 8.0473e-04\n",
      "Epoch 25/100\n",
      "38/38 [==============================] - 0s 8ms/step - loss: 8.4000e-04\n",
      "Epoch 26/100\n",
      "38/38 [==============================] - 0s 11ms/step - loss: 8.2737e-04\n",
      "Epoch 27/100\n",
      "38/38 [==============================] - 0s 11ms/step - loss: 7.7920e-04\n",
      "Epoch 28/100\n",
      "38/38 [==============================] - 0s 9ms/step - loss: 7.5523e-04\n",
      "Epoch 29/100\n",
      "38/38 [==============================] - 0s 12ms/step - loss: 7.5355e-04\n",
      "Epoch 30/100\n",
      "38/38 [==============================] - 0s 9ms/step - loss: 7.5375e-04\n",
      "Epoch 31/100\n",
      "38/38 [==============================] - 0s 9ms/step - loss: 7.1643e-04\n",
      "Epoch 32/100\n",
      "38/38 [==============================] - 0s 12ms/step - loss: 7.3120e-04\n",
      "Epoch 33/100\n",
      "38/38 [==============================] - 0s 11ms/step - loss: 7.0608e-04\n",
      "Epoch 34/100\n",
      "38/38 [==============================] - 0s 11ms/step - loss: 6.8710e-04\n",
      "Epoch 35/100\n",
      "38/38 [==============================] - 0s 8ms/step - loss: 6.8307e-04\n",
      "Epoch 36/100\n",
      "38/38 [==============================] - 0s 7ms/step - loss: 6.7727e-04\n",
      "Epoch 37/100\n",
      "38/38 [==============================] - 0s 11ms/step - loss: 6.5962e-04\n",
      "Epoch 38/100\n",
      "38/38 [==============================] - 0s 11ms/step - loss: 6.5934e-04\n",
      "Epoch 39/100\n",
      "38/38 [==============================] - 0s 10ms/step - loss: 6.4276e-04\n",
      "Epoch 40/100\n",
      "38/38 [==============================] - 0s 11ms/step - loss: 6.4115e-04\n",
      "Epoch 41/100\n",
      "38/38 [==============================] - 0s 9ms/step - loss: 6.6381e-04\n",
      "Epoch 42/100\n",
      "38/38 [==============================] - 0s 8ms/step - loss: 6.2022e-04\n",
      "Epoch 43/100\n",
      "38/38 [==============================] - 0s 10ms/step - loss: 6.2879e-04\n",
      "Epoch 44/100\n",
      "38/38 [==============================] - 0s 11ms/step - loss: 6.1041e-04\n",
      "Epoch 45/100\n",
      "38/38 [==============================] - 0s 9ms/step - loss: 6.0156e-04\n",
      "Epoch 46/100\n",
      "38/38 [==============================] - 0s 8ms/step - loss: 6.0461e-04\n",
      "Epoch 47/100\n",
      "38/38 [==============================] - 0s 8ms/step - loss: 5.9352e-04\n",
      "Epoch 48/100\n",
      "38/38 [==============================] - 0s 11ms/step - loss: 6.1949e-04\n",
      "Epoch 49/100\n",
      "38/38 [==============================] - 0s 11ms/step - loss: 5.8676e-04\n",
      "Epoch 50/100\n",
      "38/38 [==============================] - 0s 10ms/step - loss: 5.9102e-04\n",
      "Epoch 51/100\n",
      "38/38 [==============================] - 0s 10ms/step - loss: 5.7581e-04\n",
      "Epoch 52/100\n",
      "38/38 [==============================] - 0s 10ms/step - loss: 5.6684e-04\n",
      "Epoch 53/100\n",
      "38/38 [==============================] - 0s 10ms/step - loss: 5.6711e-04\n",
      "Epoch 54/100\n",
      "38/38 [==============================] - 0s 10ms/step - loss: 5.5620e-04\n",
      "Epoch 55/100\n",
      "38/38 [==============================] - 0s 12ms/step - loss: 5.4917e-04\n",
      "Epoch 56/100\n",
      "38/38 [==============================] - 0s 9ms/step - loss: 5.6977e-04\n",
      "Epoch 57/100\n",
      "38/38 [==============================] - 0s 7ms/step - loss: 5.4408e-04\n",
      "Epoch 58/100\n",
      "38/38 [==============================] - 0s 10ms/step - loss: 5.2907e-04\n",
      "Epoch 59/100\n",
      "38/38 [==============================] - 0s 11ms/step - loss: 5.3754e-04\n",
      "Epoch 60/100\n",
      "38/38 [==============================] - 0s 9ms/step - loss: 5.2011e-04\n",
      "Epoch 61/100\n",
      "38/38 [==============================] - 0s 11ms/step - loss: 5.2519e-04\n",
      "Epoch 62/100\n",
      "38/38 [==============================] - 0s 8ms/step - loss: 5.1689e-04\n",
      "Epoch 63/100\n",
      "38/38 [==============================] - 0s 8ms/step - loss: 5.0940e-04\n",
      "Epoch 64/100\n",
      "38/38 [==============================] - 0s 9ms/step - loss: 5.0827e-04\n",
      "Epoch 65/100\n",
      "38/38 [==============================] - 0s 11ms/step - loss: 5.0383e-04\n",
      "Epoch 66/100\n",
      "38/38 [==============================] - 0s 10ms/step - loss: 4.9193e-04\n",
      "Epoch 67/100\n",
      "38/38 [==============================] - 0s 8ms/step - loss: 4.9005e-04\n",
      "Epoch 68/100\n",
      "38/38 [==============================] - 0s 8ms/step - loss: 4.9103e-04\n",
      "Epoch 69/100\n",
      "38/38 [==============================] - 0s 7ms/step - loss: 4.7949e-04\n",
      "Epoch 70/100\n",
      "38/38 [==============================] - 0s 10ms/step - loss: 4.7927e-04\n",
      "Epoch 71/100\n",
      "38/38 [==============================] - 0s 10ms/step - loss: 4.8157e-04\n",
      "Epoch 72/100\n",
      "38/38 [==============================] - 0s 11ms/step - loss: 4.7632e-04\n",
      "Epoch 73/100\n",
      "38/38 [==============================] - 0s 11ms/step - loss: 4.6949e-04\n",
      "Epoch 74/100\n",
      "38/38 [==============================] - 0s 10ms/step - loss: 4.5930e-04\n",
      "Epoch 75/100\n",
      "38/38 [==============================] - 0s 10ms/step - loss: 4.7647e-04\n",
      "Epoch 76/100\n",
      "38/38 [==============================] - 0s 10ms/step - loss: 4.8665e-04\n",
      "Epoch 77/100\n",
      "38/38 [==============================] - 0s 10ms/step - loss: 4.5261e-04\n",
      "Epoch 78/100\n",
      "38/38 [==============================] - 0s 8ms/step - loss: 4.5345e-04\n",
      "Epoch 79/100\n",
      "38/38 [==============================] - 0s 9ms/step - loss: 4.4698e-04\n",
      "Epoch 80/100\n",
      "38/38 [==============================] - 0s 8ms/step - loss: 4.3824e-04\n",
      "Epoch 81/100\n",
      "38/38 [==============================] - 0s 11ms/step - loss: 4.4061e-04\n",
      "Epoch 82/100\n",
      "38/38 [==============================] - 0s 10ms/step - loss: 4.6971e-04\n",
      "Epoch 83/100\n",
      "38/38 [==============================] - 0s 10ms/step - loss: 4.6279e-04\n",
      "Epoch 84/100\n",
      "38/38 [==============================] - 0s 9ms/step - loss: 4.2679e-04\n",
      "Epoch 85/100\n",
      "38/38 [==============================] - 0s 9ms/step - loss: 4.2971e-04\n",
      "Epoch 86/100\n",
      "38/38 [==============================] - 0s 11ms/step - loss: 4.2447e-04\n",
      "Epoch 87/100\n",
      "38/38 [==============================] - 0s 10ms/step - loss: 4.2780e-04\n",
      "Epoch 88/100\n",
      "38/38 [==============================] - 0s 9ms/step - loss: 4.1986e-04\n",
      "Epoch 89/100\n",
      "38/38 [==============================] - 0s 8ms/step - loss: 4.3016e-04\n",
      "Epoch 90/100\n",
      "38/38 [==============================] - 0s 9ms/step - loss: 4.0456e-04\n",
      "Epoch 91/100\n",
      "38/38 [==============================] - 0s 10ms/step - loss: 4.1407e-04\n",
      "Epoch 92/100\n",
      "38/38 [==============================] - 0s 9ms/step - loss: 3.9331e-04\n",
      "Epoch 93/100\n",
      "38/38 [==============================] - 0s 11ms/step - loss: 3.9566e-04\n",
      "Epoch 94/100\n",
      "38/38 [==============================] - 0s 11ms/step - loss: 3.9751e-04\n",
      "Epoch 95/100\n",
      "38/38 [==============================] - 0s 10ms/step - loss: 4.2935e-04\n",
      "Epoch 96/100\n",
      "38/38 [==============================] - 0s 8ms/step - loss: 3.9295e-04\n",
      "Epoch 97/100\n",
      "38/38 [==============================] - 0s 12ms/step - loss: 3.9147e-04\n",
      "Epoch 98/100\n",
      "38/38 [==============================] - 0s 12ms/step - loss: 4.1079e-04\n",
      "Epoch 99/100\n",
      "38/38 [==============================] - 0s 10ms/step - loss: 4.3458e-04\n",
      "Epoch 100/100\n",
      "38/38 [==============================] - 0s 10ms/step - loss: 4.0836e-04\n"
     ]
    },
    {
     "data": {
      "text/plain": [
       "<keras.callbacks.History at 0x20b329609a0>"
      ]
     },
     "execution_count": 15,
     "metadata": {},
     "output_type": "execute_result"
    }
   ],
   "source": [
    "model.fit(X_train1,y_train,epochs=100, batch_size=32)"
   ]
  },
  {
   "cell_type": "code",
   "execution_count": 16,
   "id": "0e5afdb8",
   "metadata": {},
   "outputs": [],
   "source": [
    "dataset_test = pd.read_csv('testset.csv')"
   ]
  },
  {
   "cell_type": "code",
   "execution_count": 17,
   "id": "d62ac799",
   "metadata": {},
   "outputs": [],
   "source": [
    "test_set = dataset_test.iloc[:,1:2].values"
   ]
  },
  {
   "cell_type": "code",
   "execution_count": 18,
   "id": "a558e104",
   "metadata": {},
   "outputs": [
    {
     "data": {
      "text/plain": [
       "(125, 1)"
      ]
     },
     "execution_count": 18,
     "metadata": {},
     "output_type": "execute_result"
    }
   ],
   "source": [
    "test_set.shape"
   ]
  },
  {
   "cell_type": "code",
   "execution_count": 19,
   "id": "983a12be",
   "metadata": {},
   "outputs": [],
   "source": [
    "dataset_total = pd.concat((dataset_train['Open'],dataset_test['Open']),axis=0)"
   ]
  },
  {
   "cell_type": "code",
   "execution_count": 20,
   "id": "eb97c03f",
   "metadata": {},
   "outputs": [],
   "source": [
    "inputs = dataset_total.values\n",
    "inputs = inputs.reshape(-1,1)\n",
    "inputs_scaled=sc.transform(inputs)\n",
    "X_test = []\n",
    "for i in range(60,1384):\n",
    "  X_test.append(inputs_scaled[i-60:i,0])\n",
    "X_test = np.array(X_test)\n",
    "X_test = np.reshape(X_test,(X_test.shape[0], X_test.shape[1],1))"
   ]
  },
  {
   "cell_type": "code",
   "execution_count": 21,
   "id": "2ee86d91",
   "metadata": {},
   "outputs": [
    {
     "data": {
      "text/plain": [
       "(1324, 60, 1)"
      ]
     },
     "execution_count": 21,
     "metadata": {},
     "output_type": "execute_result"
    }
   ],
   "source": [
    "X_test.shape"
   ]
  },
  {
   "cell_type": "code",
   "execution_count": 22,
   "id": "74c107e6",
   "metadata": {},
   "outputs": [],
   "source": [
    "predicted_stock_price_scaled = model.predict(X_test)\n",
    "predicted_stock_price = sc.inverse_transform(predicted_stock_price_scaled)"
   ]
  },
  {
   "cell_type": "code",
   "execution_count": 25,
   "id": "152fecba",
   "metadata": {},
   "outputs": [
    {
     "data": {
      "image/png": "[encoded data removed]",
      "text/plain": [
       "<Figure size 432x288 with 1 Axes>"
      ]
     },
     "metadata": {
      "needs_background": "light"
     },
     "output_type": "display_data"
    }
   ],
   "source": [
    "plt.plot(np.arange(0,1384),inputs, color='black', label = 'Test(Real) Google stock price')\n",
    "plt.plot(np.arange(60,1384),predicted_stock_price, color='blue', label = 'Predicted Google stock price')\n",
    "plt.title('Google Stock Price Prediction')\n",
    "plt.xlabel('Time')\n",
    "plt.ylabel('Google Stock Price')\n",
    "plt.legend()\n",
    "plt.show()"
   ]
  },
  {
   "cell_type": "code",
   "execution_count": null,
   "id": "082850d3",
   "metadata": {},
   "outputs": [],
   "source": []
  }
 ],
 "metadata": {
  "kernelspec": {
   "display_name": "Python 3",
   "language": "python",
   "name": "python3"
  },
  "language_info": {
   "codemirror_mode": {
    "name": "ipython",
    "version": 3
   },
   "file_extension": ".py",
   "mimetype": "text/x-python",
   "name": "python",
   "nbconvert_exporter": "python",
   "pygments_lexer": "ipython3",
   "version": "3.8.8"
  }
 },
 "nbformat": 4,
 "nbformat_minor": 5
}
